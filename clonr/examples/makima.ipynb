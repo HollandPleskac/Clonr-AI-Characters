{
 "cells": [
  {
   "attachments": {},
   "cell_type": "markdown",
   "metadata": {},
   "source": [
    "# Example character ingestion and data\n",
    "\n",
    "We give some of the components needed to create the an AI clone of Makima from the chainsawman anime.\n",
    "\n",
    "At a high level the procedure is as follows:\n",
    "1. Extract high quality audio of the speaker. This is done by recording from a youtube video and filtering background noise using Krispr\n",
    "2. Clone the voice using elevenlabs\n",
    "3. Use the web to extract wiki/personality/innate information about the character. We use the BasicWebParser plus an anime wiki page.\n",
    "4. Extract example dialogues from show transcripts. We use the unofficial youtube_transcription_api, or, just literally copying it down manually from a video lol.\n",
    "5. Create the character template. Create an initial message for the character (we use the same one from Character.AI)\n",
    "6. Using Microsoft's guidance, call OpenAI to chat with the bot.\n",
    "7. Convert the returned text into audio format using elevenlabs API"
   ]
  },
  {
   "cell_type": "code",
   "execution_count": 1,
   "metadata": {},
   "outputs": [
    {
     "name": "stderr",
     "output_type": "stream",
     "text": [
      "\u001b[32m2023-05-27 11:52:17.404\u001b[0m | \u001b[1mINFO    \u001b[0m | \u001b[36mclonr.parsers.web\u001b[0m:\u001b[36mextract\u001b[0m:\u001b[36m20\u001b[0m - \u001b[1mFetching from url: https://chainsaw-man.fandom.com/wiki/Makima\u001b[0m\n"
     ]
    },
    {
     "data": {
      "text/plain": [
       "'|Overview|\\nWarning: This page contains major spoilers for the Chainsaw Man series. Please read at your own risk.\\n\"Your necessary evil is just an excuse to justify your own crimes. Those excuses are unnecessary to society. The truly necessary evils are always kept collared and controlled by the state.\"\\n\"I want to use Chainsaw Man... to create a better world.\"\\n\"Any source of happiness you experience? I\\'ll be the one to create and destroy it all. You helped me kill Power. There might have been a way for you to save Hayakawa, but you killed him too. You even murdered your own father. Someone like you has no right to wish for a normal life, do they?\" ― Makima trying to break Denji\\nMakima (マキマ?) was the main antagonist of the Public Safety Saga. She was a high-ranking Public Safety Devil Hunter who took Denji in as her human pet.\\nShe is later revealed to be the Control Devil (\\nAppearance\\nMakima is a Devil resembling a human woman in her twenties of marginally above average height (168 cm/5\\'6\"[1] to 173 cm/5\\'8\").[2] She has long light red/pale auburn hair, normally kept in a loose braid with bangs reaching just past her eyebrows and two longer side bangs that frame her face. Her eyes are yellow with multiple red rings within them, making them the only visible sign of her inhuman nature.\\nHer usual Public Safety uniform consists of a white long-sleeved shirt, a black tie, black pants and brown shoes.\\nPersonality\\nOn the surface, Makima seems to be a nice, gentle, social and friendly woman who is almost seen wearing a smile on her face the entire time and acts relaxed and confident even during a crisis, speaking in a professional tone to her workers. As her natural appearance is nearly identical to that of a human, she avoids disclosing her Devil nature to most of her underlings and spends much of the series posing as a human contracted to a Devil rather than a Devil herself. However, this is only a façade that she uses to fulfill her ultimate goal: After the death of Aki Hayakawa, Makima begins to reveal her true colors to Denji. Makima\\'s true face is of someone that is Machiavellian and calculating, who sees people around her as nothing more than \"dogs\" she can use as she much as she likes and must obey her without any hesitation.\\nMakima has demonstrated herself to be extremely cunning, cold and manipulative as she controls Denji through the promises of a romantic and sexual relationship while also threatening him with outright extermination if he disobeys her. Ruthless and normally dispassionate, she will do whatever it takes to reach her goals, even at the cost of the people she should be protecting.\\nMakima also realizes that she is not a good person and deems herself as \"necessary evil\"; a weapon under control of the Japanese government, just like Gun Devil which is under the control of the American government. She is not afraid of her plans derailing, since whether her plans fail or succeed, she will almost always achieve something she wants.\\nMakima is an extreme fan of Chainsaw Man, the \"Hero of Hell\". Fascinated by its ability to wipe out the embodied concept of a Devil through consuming them, her stated goal is to bring Chainsaw Man under her control in order to use its abilities to create an ideal world without fear, death, and “bad” movies. However, failure is also acceptable, as it would mean being eaten—an honor according to her.\\nMakima\\'s true goal, however, was to be together forever with Pochita and lead a happy life with him. She always yearned for something like a family, being incapable of forming equal and meaningful relationships as the Control Devil.\\nRelationships\\nPochita\\nThe Chainsaw Devil is perhaps the only individual Makima has ever shown genuine interest or affection towards. Furthermore, Pochita is one of the only people who she does not believe to be beneath her due to his legendary status and power.\\nSo deep was Makima\\'s admiration for Pochita that she devised an elaborate plan to break Pochita\\'s contract with Denji by psychologically breaking Denji\\'s spirit and force him to give up on his dreams. She planned to defeat Chainsaw Man to have her submit to him, but Makima admitted that she would be ok if her plan failed and she was consumed by Pochita, viewing it as an honor.\\nDenji\\nInitially, Makima appeared to be extremely generous towards Denji, giving him a job as a Devil Hunter, letting him live with Power and Aki to create a familial bond with them, and allowing him to have some limited freedom. She would often grant Denji\\'s wishes to help him achieve his goals and desires.\\nHowever, that was all an elaborate plan to give Denji happiness only to later plunge him into despair in order to break the contract Denji had made with Pochita and give Pochita control of his body again. Makima had never once held any sort of affection or sentiment towards Denji, and had no interest of him as she never memorized Denji\\'s scent.\\nAki Hayakawa\\nMakima appeared to respect Aki\\'s judgement and abilities, assigning him to take care of Denji and Power in his apartment because she trusted him more than anyone else. However, in reality, she was only seeing him as another pawn.\\nAbilities\\nMakima is one of the strongest individuals in the world of Chainsaw Man thanks to her physical and supernatural abilities as a Devil, along with her cunning and manipulative personality. She is feared by humans, Fiends and Devils all around the world, which increases her powers as a Devil. According to the President of the United States, other countries besides America have already given up trying to fight her.\\nAs a Devil, Makima possesses all of the standard Devil abilities. These include the ability to make contracts with humans. Thanks to her ability to control humans, she is also able to force them to make a contract with herself. Makima made a contract with the Prime Minister of Japan in return for working for the Japanese government. As a result of this contract, any fatal attacks inflicted to Makima are transferred into an appropriate illness or ailment affecting a random citizen of Japan. She was shown to have been shot in the back of the head and seemingly killed, only to stand up later with no visible wounds. She stated that she was merely grazed by the bullet, but this is unlikely given the placement of the gun when it was fired, as well as the location of the blood from the exit wound. Later, she was killed by the Gun Devil after it fired a bullet through her head, this obviously did not finish her off. It is confirmed that she had been killed twenty-six times up until the attack of the Gun Devil. Later on, she gets killed by Pochita several times during their final confrontation.\\nHowever, Denji found a way to bypass the conditions of her contract with the Prime Minister of Japan by killing her in order to end her misery, which he viewed as a form of love rather than an attack. After being eaten by him, she returned to Hell and subsequently reincarnated in China as Nayuta due to the revival ability of Devils.\\nPhysical Abilities\\n- Immense Strength: Makima possesses a great deal of physical strength allowing her to fight effectively in hand-to-hand combat without relying on any of her subordinates. Her strength was great enough to overwhelm Pochita\\'s weakened form and shatter his chainsaws with her strikes.\\n- Enhanced Smell: According to Denji, Makima primarily differentiates others through smell. In their first encounter, she was able to detect that Pochita still existed within Denji through his scent. However, she cannot differentiate between humans through sight, similar to how we cannot differentiate between dogs by their faces.\\nSupernatural Abilities\\n- Domination: As Makima embodies the fear of control or conquest/domination, her abilities reflects this nature. Besides her manipulative way of thinking and acting, she is able to control any being who she believes is inferior to her, even being able to force them into making contracts with her or another Devil. If Makima is not fully convinced that she is superior to somebody, such as Reze, she can best them in a fight to prove their inferiority to herself. It seems as though once placed under her control, the victim subsequently loses their memory of anything that happened immediately before they were controlled and anything they did while being controlled. This ability works on any being, regardless of the number of humans, animals, Devils, Fiends and Hybrids she controls. She can channel the power of her victims by summoning them through a chain connected to her body. It has been shown that she can use the abilities of Angel Devil, Future Devil, Snake Devil, Punishment Devil, Spider Devil and Zombie Devil. Even deceased individuals can be controlled in this manner. Makima was able to form a squad of weapon Hybrids, three of which (Reze, Quanxi and Katana Man) were former enemies who now behaved affectionately towards her. This suggests Makima can control individuals outright as well as changing their personalities in subtle ways. Makima\\'s control can be broken as seen with Angel Devil.\\n- She borrows the hearing of rats, birds and other small animals she controls to hear conversations remotely, seemingly anywhere on the planet and possibly extending into Hell itself.[3][4][5] She was able to spy on Denji\\'s and Reze\\'s conversation and was listening in on Kishibe\\'s conversation with Quanxi.[6] This ability can be circumvented by communicating nonverbally such as writing on a piece of paper.[3]\\n- She has been shown to control a large number of rats which allow her to travel around using them. These rats can then cluster together to form the shape of a human and thus allow for Makima to be transported to that location instantly.[7] Makima is also able to summoned through Princi\\'s zipper, which can move her from Earth to hell or wherever the Spider Devil happens to be.\\n- She has demonstrated the ability to make others hear her voice by placing her hand on their head even if the person is dead.[8] She uses this to command the Devils that the person is currently contracted with.\\n- Force Manipulation: Makima has been shown to offensively manipulate an invisible force in a variety of way similar to Darkness Devil. This force can be used to damage her weak targets internally by simply staring at them. Depending on the situation, she can use this power in other various way such as:\\n- She has shown to cause her target to be crushed by an invisible force from over long distances. In order to use this technique, Makima appears to require a higher place such as a shrine, the name of a target and a human sacrifice. Makima forms a symbol with her hands and instructs the sacrifice whose eyes closed by a white cloth to utter the name of the target. The sacrifice then dies and target subsequently is crushed, preceded by a brief sense of \"wrongness\". This attack completely destroys the target\\'s body but causes no damage to adjacent people or objects, even the target\\'s clothes. While she is using this ability, the sacrificial people around herself are blindfolded with a cloth. She used this ability once from Kyoto to kill the goons of Sawatari\\'s gang.\\n- She has been shown to inflict damage by projecting an invisible force to targets she points at with her index finger[9] which is strong enough to heavily damage Darkness Devil, who is a Primal Devil, kill Power instantly[10] and send an empowered Chainsaw Man high into the atmosphere when she used it repetitively against him. She usually says \"Bang! (バン！)\" while using this ability.\\n- She has been shown to remove the heads of her targets in the vicinity from a short-to-mid range by using a sword; similar to her ability to crush her targets remotely, the people around her close their eyes with a black cloth.\\nOther Abilities\\n- High Alcohol Tolerance: Makima has an exceedingly high tolerance for drinking alcohol; able to out-drink both Aki Hayakawa and Himeno without showing any signs of being debilitated by the vast quantities of liquor/ethanol.[11] However, due to her contract with the Japanese Prime Minister, it is likely that any damage her excessive drinking would have caused was redirected to a random Japanese citizen.\\n- Hand-to-Hand Combat: Makima is very a proficient combatant, despite not usually being seen fighting. She was capable of defeating a weakened Pochita by herself and only using her fighting skills, she even managed to rip Pochita\\'s heart from his body by restraining him after she defeated him.\\n- High Inteligence: Makima has shown to be a highly intelligent individual. Even without using her Devil powers, she is very cunning and manipulative. A fine example is the way she controls Denji throughout most of Part 1\\'s story. Makima knows what exactly to say, move and how to react in order to make Denji her pet. Being aware of Denji\\'s desires, she often interferes by making him feel that he is a person, and behind the scenes, she is pulling the strings in order to achieve her goal. Just like she helps him feel love and happiness, she also attacks and makes her move to destroy his personal relationships in order to make him feel desperate and guilty over the losses he suffers.\\nChapter Appearances\\nPublic Safety Saga\\n|1. Dog & Chainsaw||Debut|\\n|2. The Place Where Pochita Is||Appears|\\n|3. Arrival in Tokyo||Appears|\\n|4. Power||Appears|\\n|5. A Way to Touch Some Boobs||Appears|\\n|6. Service||Appears|\\n|7. Meowy\\'s Whereabouts||Absent|\\n|8. Chainsaw vs. Bat||Absent|\\n|9. Rescue||Absent|\\n|10. Kon||Absent|\\n|11. Compromise||Appears|\\n|12. Squeeze||Appears|\\n|13. Gun Devil||Appears|\\n|14. French Kiss||Flashback|\\n|15. Endless 8th Floor||Absent|\\n|16. The First Taste||Absent|\\n|17. Kill Denji||Absent|\\n|18. Chainsaw vs. Eternity||Absent|\\n|19. Nobel Prize||Absent|\\n|20. Drinking||Appears|\\n|21. Taste of a Kiss||Appears|\\n|22. Cola-Flavor Chupa Chups||Appears|\\n|23. Gunfire||Absent|\\n|24. Curse||Absent|\\n|25. Ghost, Snake, Chainsaw||Absent|\\n|26. The Gun is Mightier||Appears|\\n|27. From Kyoto||Appears|\\n|28. Secrets & Lies||Appears|\\n|29. Perfect Score||Appears|\\n|30. Bruised & Battered||Absent|\\n|31. The Future Rules||Absent|\\n|32. Over and Over Again||Appears|\\n|33. Mission Start||Appears|\\n|34. Full Team||Absent|\\n|35. Minor||Absent|\\n|36. Katana vs. Chainsaw||Absent|\\n|37. Train, Head, Chainsaw||Absent|\\n|38. Easy Revenge!||Appears|\\n|39. Tearjerker||Appears|\\n|40. Love, Flower, Chainsaw||Flashback|\\n|41. Before the Storm||Flashback|\\n|42. Teach Me How to Swim||Flashback|\\n|43. Jane Fell Asleep in the Church||Mentioned|\\n|44. Boom Boom Boom||Absent|\\n|45. A Fine Day for Explosions||Mentioned|\\n|46. The Melody of a Massacre||Absent|\\n|47. Luck With Women||Absent|\\n|48. Kaboom Kaboom Kaboom||Absent|\\n|49. Shark Hurricane||Absent|\\n|50. Sharknado||Absent|\\n|51. Dark Diving||Absent|\\n|52. Lost Love, Flower, Chainsaw||Appears|\\n|53. In a Dream||Appears|\\n|54. To Go to Enoshima||Appears|\\n|55. Let\\'s Go||Flashback|\\n|56. A Curse and A Fist||Mentioned|\\n|57. Suddenly||Absent|\\n|58. Yutaro Kurose||Absent|\\n|59. Mess||Appears|\\n|60. Quanxi and Fiends\\' 49-Person Massacre||Absent|\\n|61. News Reporter||Mentioned|\\n|62. Super Mess||Absent|\\n|63. Trip To Hell||Absent|\\n|64. Welcome To Hell||Absent|\\n|65. The Darkness Devil||Absent|\\n|66. Woof!||Appears|\\n|67. The First Devil Hunter||Appears|\\n|68. Dark Power||Absent|\\n|69. Shining Power||Absent|\\n|70. Pinch||Appears|\\n|71. Bath||Flashback|\\n|72. All Together||Absent|\\n|73. Everyday Life No More||Appears|\\n|74. What the Waves Say||Appears|\\n|75. 9,12||Appears|\\n|76. Don\\'t Open It||Appears|\\n|77. Ring Ring Ring||Appears|\\n|78. Snowball Fight||Absent|\\n|79. Play Catch||Absent|\\n|80. A Dog\\'s Feelings||Appears|\\n|81. Paw||Appears|\\n|82. Always Eat A Hearty Breakfast||Appears|\\n|83. Death, Resurrection, Chainsaw||Appears|\\n|84. Hero Of Hell||Appears|\\n|85. Bloody Good Gut Feeling||Appears|\\n|86. Date Chainsaw||Appears|\\n|87. Chainsaw Man vs. the Horrifying Weapon Humans||Appears|\\n|88. Star Chainsaw||Appears|\\n|89. Go Get \\'Em, Chainsaw Man||Appears|\\n|90. Super Power||Appears|\\n|91. Power, Power, Power||Appears|\\n|92. Zombie, Blood, Chainsaw||Mentioned|\\n|93. You & Crappy Movies||Appears|\\n|94. Chainsaw Man vs. the Weapon Humans||Appears|\\n|95. Chainsaw Man vs. Control Devil||Appears|\\n|96. This Kind of Taste||Death|\\n|97. I, Love, Chainsaw||Mentioned|\\nAcademy Saga\\n|98. Bird & War||Absent|\\n|99. Two Birds||Absent|\\n|100. How to Walk Shoeless||Absent|\\n|101. Afterschool Devil Hunters||Absent|\\n|102. Save the Cat||Absent|\\n|103. Denji Dream||Absent|\\n|104. Spoiler||Mentioned|\\n|105. Red Hot||Absent|\\n|106. Bonfire||Absent|\\n|107. School Attacker||Absent|\\n|108. Something Important to Asa||Absent|\\n|109. The Easy Way to Stop Bullying||Absent|\\n|110. A Ring in the Night||Absent|\\n|111. Aha Ha Ha Ha||Absent|\\nAnime Appearances\\n|1. Dog & Chainsaw||Debut|\\n|2. Arrival in Tokyo||Appears|\\n|3. Meowy\\'s Whereabouts||Appears|\\n|4. Rescue||Appears|\\n|5. Gun Devil||Appears|\\n|6. Kill Denji||Absent|\\n|7. The Taste of a Kiss||Appears|\\n|8. Gunfire||Appears|\\n|9. From Kyoto||Appears|\\n|10. Bruised & Battered||Appears|\\n|11. Mission Start||Appears|\\n|12. Katana vs. Chainsaw||Appears|\\nEtymology\\n- Makima\\'s name is written in katakana (マキマ), though it seems to have no special meaning to it. However, the \"maki\" (マキ) in her name seems to be from \"Makita\", which is the name of a Japanese manufacturer of power tools that also creates chainsaws (noting her idolization of Chainsaw Man).\\nTrivia\\n- Makima\\'s rankings in the Popularity Polls are as follows:\\n- Makima ranked 2nd in the First Popularity Poll with 27,224 votes.\\n- Makima ranked 2nd in the Second Popularity Poll with 76,733 votes.\\n- Makima smokes \"hi-fight\"s, likely a reference to the Japanese tobacco brand \"hi-lite.\"\\n- Makima was the first character Fujimoto had a solid image of as she is a character in \"Breath of The Stars\", one of the serialized works in Fujimoto\\'s head, out of many fantasy stories he imagined in Junior High.\\n- Makima was partially based on \"Benten\", a character in \"The Eccentric Family\" that Fujimoto liked, for she is an unfathomable higher being, with her own sadness that we lowly humans can\\'t comprehend—something Fujimoto wanted to convey in Makima.\\n- Fujimoto has mentioned FLCL as a source of inspiration for the girls of Chainsaw Man, and Makima is likely based on Haruko from FLCL who is a manipulative, unpredictable being.\\n- According to Fujimoto, if you remove the \"ki\" from Makima\\'s name, you\\'re left with \"Mama\", which ties in with Denji, who has always been pursuing maternal things since the death of his mother at a young age.\\n- Makima\\'s Japanese Devil Name, Shihai (支配), uses the same kanji as the Japanese translation for the first of the Four Horsemen of the Apocalypse in Christian mythology. Given Makima\\'s status as a member of the group, her name could also be interpreted as the Conquest Devil.\\n- Makima\\'s final battle at the end with Chainsaw Man was inspired by the Shinobu vs. Koyomi fight in the Kizumonogatari III movie according to a tweet by Fujimoto.\\n- In Makima\\'s apartment (shown in Chapter 81), there is a painting showing \"The Fall of Lucifer\", similar to Gustave Doré\\'s illustration for John Milton\\'s poem Paradise Lost.\\n- In both the anime and the manga, Makima is often seen with pests and parasites.\\n- In the opening theme \"Kick Back\", Makima is allegorically represented by two animals: the jade wasp (Ampulex compressa) and Leucochloridium paradoxum, both parasites that control the actions of their host.\\n- Her association with pests could be reflective of how the Conquest Horseman is often interpreted as the Horseman of Pestilence. The reason for the Conquest Horseman being changed to Pestilence in some interpretations is because scholars found Conquest to be too similar to War. Pestilence was an easy change because at the time, bows and arrows were laced with poisons and toxins and the Conquest Horseman held a bow and arrow. Even though Makima\\'s hands are in a more gun-like position, her \"Bang!\" ability can also be comparable to shots from an arrow.\\n- Makima\\'s gut halo is often seen as being symbolic of the crown that the Conquest Horseman would wear.\\n- Makima is very similar to Silene/Sirene from the Devilman series. Silene is a demon whose motivations against the protagonist, Akira, was because he was a human fused with the demon she either admired or was in love with (depending on the version), Amon. She only lured Akira so that she can kill him herself because she wanted Amon, just like how Makima only lured Denji because he was fused with the real Chainsaw Man, Pochita. The difference between them is that Silene was originally, until she became more popular, just a very minor antagonist whereas Makima was always planned to be a major character from the start and is later revealed to be a major antagonist.\\n- In the original Devilman manga, Sirene had two demons who assisted her called Ghelmer and Agwel who had water and intangibility powers respectively. Two of Makima\\'s subordinates, Beam and Princi, are both Devils with intangibility powers and Beam is a Shark Fiend and sharks are aquatic animals with his intangibility being his own way of representing sharks swimming.\\nReferences\\n- ↑ Confirmed for the anime via the 2023 Chainsaw Man Shibuya Exhibition\\n- ↑ Near-final prototype design for the manga\\n- ↑ 3.0 3.1 Chainsaw Man Manga: Chapter 66, Page 16\\n- ↑ Chainsaw Man Manga: Chapter 66, Pages 5 - 6\\n- ↑ Chainsaw Man Manga: Chapter 67, Page 2\\n- ↑ Chainsaw Man Manga: Chapter 52, Page 8\\n- ↑ Chainsaw Man Manga: Chapter 52, Pages 6 - 8\\n- ↑ Chainsaw Man Manga: Chapter 66, Page 11\\n- ↑ Chainsaw Man Manga: Chapter 66, Page 8\\n- ↑ Chainsaw Man Manga: Chapter 81\\n- ↑ Chainsaw Man Manga: Chapter 21, Pages 2 - 4\\n|Primal Fears||Falling Devil • Darkness Devil|\\n|Devils||Angel Devil • Bat Devil • Bomb Devil • Chainsaw Devil • Chicken Devil • Cockroach Devil • Claw Devil • Control Devil • Cosmos Devil • Crossbow Devil • Curse Devil • Doll Devil • Eternity Devil • Famine Devil • Flamethrower Devil • Fish Devil • Fox Devil • Future Devil • Ghost Devil • Violence Devil • Grape Devil • Gun Devil • Hell Devil • Justice Devil • Katana Devil • Knife Devil • Leech Devil • Longsword Devil • Mantis Devil • Marshmallow Devil • Mold Devil • Muscle Devil • Needle Devil • Octopus Devil • Pig Devil • Punishment Devil • Sea Cucumber Devil • Shark Devil • Skin Devil • Snake Devil • Spear Devil • Spider Devil • Stone Devil • Tomato Devil • Typhoon Devil • War Devil • Whip Devil • Zombie Devil|\\n|Fiends||Aki Hayakawa • Yoru • Asa Mitaka • Beam • Cosmo • Galgali • Long • Pingtsi • Power • Tsugihagi|\\n|Hybrids||Denji • Flamethrower Hybrid • Katana Man • Longsword Hybrid • Quanxi • Reze • Spear Hybrid • Whip Hybrid|\\n|Public Safety Devil Hunters||Aki Hayakawa † • Angel † • Beam † • Denji • Furuno • Fushi † • Galgali † • Himeno † • Kato † • Kishibe • Kobeni Higashiyama ‡ • Kusakabe † • Madoka ‡ • Makima † • Masaki Ando † • Michiko Tendo † • Nakamura † • Nomo † • Power † • Princi † • Subaru † • Tamaoki † • Tanabe † • Yutaro Kurose † • Hirokazu Arai †|\\n|Civilian Devil Hunters||Akane Sawatari † • Aldo • Denji ‡ • Hirofumi Yoshida • Joey † • Quanxi • Santa Claus ‡ • Tolka †|\\n|Devil Hunter Club||Asa Mitaka • Fami • Furio • Haruka Iseumi • Hirofumi Yoshida • Seigi Akoku • Yoru • Yuko ‡|'"
      ]
     },
     "execution_count": 1,
     "metadata": {},
     "output_type": "execute_result"
    }
   ],
   "source": [
    "import openai\n",
    "import guidance\n",
    "import sys\n",
    "sys.path.append('../../')\n",
    "from clonr.data_structures import Document\n",
    "from clonr.parsers import BasicWebParser\n",
    "\n",
    "# audio source. We can clone the bot using this link\n",
    "audio_url = 'https://www.youtube.com/watch?v=SE705zd7y50'\n",
    "\n",
    "# Get the wiki information\n",
    "url = 'https://chainsaw-man.fandom.com/wiki/Makima'\n",
    "doc = BasicWebParser().extract(url)\n",
    "\n",
    "# clean up some header and footer stuff that is irrelevant\n",
    "doc.content = doc.content.split('Chapter Appearances')[0]\n",
    "doc.content = doc.content.split('Please read at your own risk')[1]"
   ]
  },
  {
   "attachments": {},
   "cell_type": "markdown",
   "metadata": {},
   "source": [
    "### Quick tutorial on how guidance works.\n",
    "You can think of `fn = guidance(\"string\")` as creating a function fn whose code is given by \"string\".\n",
    "this function can then be executed by providing arguments fn(x=..., y=...) etc.\n",
    "\n",
    "Short overview of notation:\n",
    "* `fn = guidance(\"{{x}}\")` means variable substitution. `fn(x=5) = \"5\"`\n",
    "* `fn = guidance(\"{{#x}}...stuff...{{/x}}\")` the # means you're opening a block (think like html style or react style). #x could have like an opening and closing title (section 1:.... footer 1.) or just variables to access\n",
    "* `fn = guidance(\"{{#each myvariable}}...{{this.name}}...{{/each}}\")` opens up a for loop over a list `myvariable`, and the outputs get written sequentially like {{each [1,2,3]}}{{this}}{{/each}} => 123. `this` is the current element\n",
    "* The `!` is used for comments {{! this is a comment}}\n",
    "* The `~` is used for removing whitespace before/after {{~var1}} removes before {{var1~}} removes after {{~var1~}} removes both.\n",
    "* calls to an LLM are created via the `gen` keyword, and stored in a variable that comes after {{gen \"my-variable\", temperature=? arg2=???}}. you can also add function args to the llm like temperature.\n",
    "\n",
    "There is other cool shit, like structuring outputs via regex, enums, patterns. You can also capture the logprobs on enums by adding a 'logprobs' arg in gen. There's an await functionality for waiting on input. Async/sync options. Caching for speeding up calculations.\n",
    "\n",
    "### Gotchas\n",
    "1. The cache directory is located at ```import platformdirs; print(platformdirs.get_user_dir('guidance'))```. You will likely forget about this and blow up disk space. I'm not sure how to change it without editing the source code.\n",
    "\n",
    "2. DO NOT USE CONTROLLED GENERATION WITH OPENAI. You will get fucked. There will be an API call for every option in your enum at worst, and at best an API call for every control statement (if the code can output _all_ logprobs which seems unlikely given that would be a 50k array in json.). That's a lot of tokens. Control is optimized only in transformers so far."
   ]
  },
  {
   "cell_type": "code",
   "execution_count": null,
   "metadata": {},
   "outputs": [],
   "source": [
    "system_prompt = guidance(\"You are a character named {{char}}. You stay perfectly in character, and never break immersion, replying as Makima to the user.\")\n",
    "\n",
    "example_dialogues = guidance(\"\"\"### Dialogue 1\n",
    "{{char}}: Denji-kun, are you ok?\n",
    "Denji-kun: uhh... yeah\n",
    "{{char}}: There's not a lot of precedent for your condition... even from a historical perspective, it doesn't have a name. But, I believe you. I've got a particularly good sense of smell.\n",
    "\n",
    "### Dialogue 2\n",
    "{{char}}: I believe that, when it comes to sex, the better you understand the other person the better it feels\n",
    "Denji: I... I... uhh\n",
    "{{char}}: But it's hard to know how someone else feels. So start with observing the hand carefully. How long are the fingers. Are the palms cool? Are the warm? Ever had your finger bitten? Remember this. So that even if you can't see, you can tell it's me. Biting your finger. Remember.\n",
    "\"\"\")\n",
    "                                            \n",
    "wiki = guidance(doc.content.replace('Makima', '{{char}}'))\n",
    "\n",
    "program = guidance('''{{~#system~}}\n",
    "{{>system_prompt}}\n",
    "{{~/system}}\n",
    "{{#user~}}\n",
    "Your task is to contiue the conversation between {{human}} and {{char}}. In order to do so, make use of the following information about {{char}}.\n",
    "\n",
    "## {{char}} Description\n",
    "{{>wiki}}\n",
    "\n",
    "## Example Dialogues\n",
    "{{>example_dialogues}}\n",
    "\n",
    "## Conversation\n",
    "{{char}}: Hi! I am {{char}}, a Public Safety Devil Hunter. Hmm, you seems interesting.\n",
    "{{human}}: I am yours. I am one of your dogs. Control me ⛓.\n",
    "{{char}}: Makima: Oh, interesting. A dog who is willing to be controlled. You must have a strong desire to please your master. Tell me, Jonny, what do you hope to gain by being controlled? Power? Protection? Something else entirely?\n",
    "{{human}}: What do I desire? ummm. Sex.\n",
    "\n",
    "## Task\n",
    "Continue the conversation as {{char}}.\n",
    "{{~/user}}\n",
    "{{#assistant~}}\n",
    "{{gen \"answer\" temperature=0.9 top_p=0.95}}\n",
    "{{~/assistant~}}\n",
    "''')\n",
    "\n",
    "chatgpt = guidance.llms.OpenAI(\"gpt-3.5-turbo\")\n",
    "r = program(\n",
    "    human=\"Jonny\", \n",
    "    system_prompt=system_prompt, \n",
    "    example_dialogues=example_dialogues,\n",
    "    wiki=wiki, \n",
    "    char='Makima', \n",
    "    llm=chatgpt\n",
    ")"
   ]
  }
 ],
 "metadata": {
  "kernelspec": {
   "display_name": "jonny",
   "language": "python",
   "name": "python3"
  },
  "language_info": {
   "codemirror_mode": {
    "name": "ipython",
    "version": 3
   },
   "file_extension": ".py",
   "mimetype": "text/x-python",
   "name": "python",
   "nbconvert_exporter": "python",
   "pygments_lexer": "ipython3",
   "version": "3.10.10"
  },
  "orig_nbformat": 4
 },
 "nbformat": 4,
 "nbformat_minor": 2
}
